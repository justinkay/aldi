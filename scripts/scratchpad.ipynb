{
 "cells": [
  {
   "cell_type": "code",
   "execution_count": null,
   "metadata": {},
   "outputs": [],
   "source": []
  },
  {
   "cell_type": "code",
   "execution_count": 72,
   "metadata": {},
   "outputs": [
    {
     "name": "stdout",
     "output_type": "stream",
     "text": [
      "                               filename  file_size file_attributes  region_count  region_id                                    region_shape_attributes                  region_attributes image_id  category_id  annid\n",
      "0                          WSCT4429.JPG    3923430              {}             0          0                                                         {}                                 {}    boop0            2      0\n",
      "1                          WSCT4430.JPG    3943204              {}             0          0                                                         {}                                 {}    boop1            2      1\n",
      "2                          WSCT4445.JPG    3935018              {}             1          0  {\"name\":\"rect\",\"x\":2169,\"y\":438,\"width\":118,\"height\":126}        {\"Insect\":{\"Carabid\":true}}    boop3            0      2\n",
      "3                          WSCT4431.JPG    3933753              {}             0          0                                                         {}                                 {}    boop2            2      3\n",
      "4                          WSCT4445.JPG    3935018              {}             1          0  {\"name\":\"rect\",\"x\":2169,\"y\":438,\"width\":118,\"height\":126}  {\"Insect\":{\"Staphylinidae\":true}}    boop3            1      4\n",
      "{}\n",
      "{}\n",
      "{'Insect': {'Carabid': True}}\n",
      "Carabid\n",
      "{'name': 'rect', 'x': 2169, 'y': 438, 'width': 118, 'height': 126}\n",
      "[2169, 438, 118, 126]\n",
      "{}\n",
      "{'Insect': {'Staphylinidae': True}}\n",
      "Staphylinidae\n",
      "{'name': 'rect', 'x': 2169, 'y': 438, 'width': 118, 'height': 126}\n",
      "[2169, 438, 118, 126]\n"
     ]
    }
   ],
   "source": [
    "import pandas as pd\n",
    "import io\n",
    "import ast\n",
    "import json\n",
    "\n",
    "test_csv = io.StringIO(\"\"\"filename,file_size,file_attributes,region_count,region_id,region_shape_attributes,region_attributes\n",
    "                        WSCT4429.JPG,3923430,\"{}\",0,0,\"{}\",\"{}\"\n",
    "                        WSCT4430.JPG,3943204,\"{}\",0,0,\"{}\",\"{}\"\n",
    "                        WSCT4445.JPG,3935018,\"{}\",1,0,\"{\"\"name\"\":\"\"rect\"\",\"\"x\"\":2169,\"\"y\"\":438,\"\"width\"\":118,\"\"height\"\":126}\",\"{\"\"Insect\"\":{\"\"Carabid\"\":true}}\"\n",
    "                        WSCT4431.JPG,3933753,\"{}\",0,0,\"{}\",\"{}\"\n",
    "                        WSCT4445.JPG,3935018,\"{}\",1,0,\"{\"\"name\"\":\"\"rect\"\",\"\"x\"\":2169,\"\"y\"\":438,\"\"width\"\":118,\"\"height\"\":126}\",\"{\"\"Insect\"\":{\"\"Staphylinidae\"\":true}}\"\n",
    "                        \n",
    "                    \"\"\")\n",
    "\n",
    "\n",
    "df = pd.read_csv(test_csv)\n",
    "df['image_id'] = pd.Categorical(df['filename'], ordered=True).codes #df['filename'].astype('category').cat.codes # create a unique file id for each unique filename-row\n",
    "df['image_id'] = \"boop\" + df['image_id'].astype(str)\n",
    "df['category_id']= pd.Categorical(df['region_attributes'],ordered= True).codes\n",
    "df[\"annid\"] = df.index\n",
    "\n",
    "print(df.to_string())\n",
    "\n",
    "for row in df.itertuples():\n",
    "    #print(type(row.region_attributes))\n",
    "    jsonobj = json.loads(row.region_attributes)\n",
    "    print(jsonobj)\n",
    "    if row.region_count <= 0:\n",
    "        continue\n",
    "    print(list(jsonobj[\"Insect\"].keys())[0])\n",
    "    print(json.loads(row.region_shape_attributes))\n",
    "    shape = json.loads(row.region_shape_attributes)\n",
    "    bbox = [shape[\"x\"], shape[\"y\"], shape[\"width\"], shape[\"height\"]]\n",
    "    print(bbox)"
   ]
  }
 ],
 "metadata": {
  "kernelspec": {
   "display_name": "Python 3",
   "language": "python",
   "name": "python3"
  },
  "language_info": {
   "codemirror_mode": {
    "name": "ipython",
    "version": 3
   },
   "file_extension": ".py",
   "mimetype": "text/x-python",
   "name": "python",
   "nbconvert_exporter": "python",
   "pygments_lexer": "ipython3",
   "version": "3.12.9"
  }
 },
 "nbformat": 4,
 "nbformat_minor": 2
}
