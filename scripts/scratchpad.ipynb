{
 "cells": [
  {
   "cell_type": "code",
   "execution_count": null,
   "metadata": {},
   "outputs": [],
   "source": []
  },
  {
   "cell_type": "code",
   "execution_count": null,
   "metadata": {},
   "outputs": [
    {
     "name": "stdout",
     "output_type": "stream",
     "text": [
      "                               filename  file_size file_attributes  region_count  region_id                                    region_shape_attributes                  region_attributes image_id  category_id  annid\n",
      "0                          WSCT4429.JPG    3923430              {}             0          0                                                         {}                                 {}    boop0            2      0\n",
      "1                          WSCT4430.JPG    3943204              {}             0          0                                                         {}                                 {}    boop1            2      1\n",
      "2                          WSCT4445.JPG    3935018              {}             1          0  {\"name\":\"rect\",\"x\":2169,\"y\":438,\"width\":118,\"height\":126}        {\"Insect\":{\"Carabid\":true}}    boop3            0      2\n",
      "3                          WSCT4431.JPG    3933753              {}             0          0                                                         {}                                 {}    boop2            2      3\n",
      "4                          WSCT4445.JPG    3935018              {}             1          0  {\"name\":\"rect\",\"x\":2169,\"y\":438,\"width\":118,\"height\":126}  {\"Insect\":{\"Staphylinidae\":true}}    boop3            1      4\n",
      "{}\n",
      "{}\n",
      "{'Insect': {'Carabid': True}}\n",
      "Carabid\n",
      "{'name': 'rect', 'x': 2169, 'y': 438, 'width': 118, 'height': 126}\n",
      "[2169, 438, 118, 126]\n",
      "{}\n",
      "{'Insect': {'Staphylinidae': True}}\n",
      "Staphylinidae\n",
      "{'name': 'rect', 'x': 2169, 'y': 438, 'width': 118, 'height': 126}\n",
      "[2169, 438, 118, 126]\n"
     ]
    }
   ],
   "source": [
    "import pandas as pd\n",
    "import io\n",
    "import ast\n",
    "import json\n",
    "\n",
    "test_csv = io.StringIO(\"\"\"filename,file_size,file_attributes,region_count,region_id,region_shape_attributes,region_attributes\n",
    "                        WSCT4429.JPG,3923430,\"{}\",0,0,\"{}\",\"{}\"\n",
    "                        WSCT4430.JPG,3943204,\"{}\",0,0,\"{}\",\"{}\"\n",
    "                        WSCT4445.JPG,3935018,\"{}\",1,0,\"{\"\"name\"\":\"\"rect\"\",\"\"x\"\":2169,\"\"y\"\":438,\"\"width\"\":118,\"\"height\"\":126}\",\"{\"\"Insect\"\":{\"\"Carabid\"\":true}}\"\n",
    "                        WSCT4431.JPG,3933753,\"{}\",0,0,\"{}\",\"{}\"\n",
    "                        WSCT4445.JPG,3935018,\"{}\",1,0,\"{\"\"name\"\":\"\"rect\"\",\"\"x\"\":2169,\"\"y\"\":438,\"\"width\"\":118,\"\"height\"\":126}\",\"{\"\"Insect\"\":{\"\"Staphylinidae\"\":true}}\"\n",
    "                        \n",
    "                    \"\"\")\n",
    "\n",
    "\n",
    "def extract_categories(csv_path):\n",
    "    df = pd.read_csv(csv_path)  # Load CSV\n",
    "\n",
    "    unique_categories = set()  # Store unique category names\n",
    "\n",
    "    for attributes in df['region_attributes']:\n",
    "        try:\n",
    "            attr_dict = json.loads(attributes)  # Convert string to dictionary\n",
    "            if \"Insect\" in attr_dict:  # Check if 'Insect' key exists\n",
    "                unique_categories.update(attr_dict[\"Insect\"].keys())  # Extract category names\n",
    "        except json.JSONDecodeError:\n",
    "            continue  # Skip if JSON is malformed\n",
    "\n",
    "    # Create category dictionary with unique, sorted category names\n",
    "    categories = [\n",
    "        {\"id\": idx + 1, \"name\": cat, \"supercategory\": \"Insect\"}\n",
    "        for idx, cat in enumerate(sorted(unique_categories))  # Sorted to ensure consistency\n",
    "    ]\n",
    "\n",
    "    return categories\n",
    "\n",
    "categories_list = extract_categories(test_csv)\n",
    "\n",
    "# Print extracted COCO categories\n",
    "print(json.dumps(categories_list, indent=4))\n",
    "\n",
    "\n",
    "\n",
    "df = pd.read_csv(test_csv)\n",
    "df['image_id'] = pd.Categorical(df['filename'], ordered=True).codes #df['filename'].astype('category').cat.codes # create a unique file id for each unique filename-row\n",
    "df['image_id'] = \"boop\" + df['image_id'].astype(str)\n",
    "df['category_id']= pd.Categorical(df['region_attributes'],ordered= True).codes\n",
    "df[\"annid\"] = df.index\n",
    "\n",
    "print(df.to_string())\n",
    "\n",
    "for row in df.itertuples():\n",
    "    #print(type(row.region_attributes))\n",
    "    jsonobj = json.loads(row.region_attributes)\n",
    "    print(jsonobj)\n",
    "    if row.region_count <= 0:\n",
    "        continue\n",
    "    print(list(jsonobj[\"Insect\"].keys())[0])\n",
    "    print(json.loads(row.region_shape_attributes))\n",
    "    shape = json.loads(row.region_shape_attributes)\n",
    "    bbox = [shape[\"x\"], shape[\"y\"], shape[\"width\"], shape[\"height\"]]\n",
    "    print(bbox)"
   ]
  }
 ],
 "metadata": {
  "kernelspec": {
   "display_name": "Python 3",
   "language": "python",
   "name": "python3"
  },
  "language_info": {
   "codemirror_mode": {
    "name": "ipython",
    "version": 3
   },
   "file_extension": ".py",
   "mimetype": "text/x-python",
   "name": "python",
   "nbconvert_exporter": "python",
   "pygments_lexer": "ipython3",
   "version": "3.12.9"
  }
 },
 "nbformat": 4,
 "nbformat_minor": 2
}
